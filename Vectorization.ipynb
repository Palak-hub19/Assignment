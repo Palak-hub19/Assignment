{
 "cells": [
  {
   "cell_type": "code",
   "execution_count": 1,
   "id": "65d8aab1-fc05-4395-9d64-723fa8f24de8",
   "metadata": {},
   "outputs": [
    {
     "name": "stdout",
     "output_type": "stream",
     "text": [
      "Time taken in non-vectorized approach: 1688.4007453918457 ms\n",
      "Time taken in vectorized approach: 0.0 ms\n",
      "Results match: True\n"
     ]
    }
   ],
   "source": [
    "import numpy as np\n",
    "import time\n",
    "\n",
    "arr_nonvectorized = np.random.rand(1000, 1000)\n",
    "arr_vectorized = np.array(arr_nonvectorized)  # making a deep copy of the array\n",
    "\n",
    "# Non-vectorized approach\n",
    "start_nv = time.time()\n",
    "\n",
    "# <START>\n",
    "result_nonvectorized = np.zeros_like(arr_nonvectorized)\n",
    "for i in range(arr_nonvectorized.shape[0]):\n",
    "    for j in range(arr_nonvectorized.shape[1]):\n",
    "        result_nonvectorized[i, j] = arr_nonvectorized[i, j] * 3\n",
    "# <END>\n",
    "\n",
    "end_nv = time.time()\n",
    "print(\"Time taken in non-vectorized approach:\", 1000 * (end_nv - start_nv), \"ms\")\n",
    "\n",
    "# Vectorized approach\n",
    "start_v = time.time()\n",
    "\n",
    "# <START>\n",
    "result_vectorized = arr_vectorized * 3\n",
    "# <END>\n",
    "\n",
    "end_v = time.time()\n",
    "print(\"Time taken in vectorized approach:\", 1000 * (end_v - start_v), \"ms\")\n",
    "\n",
    "# Uncomment and execute the below line to convince yourself that both approaches are doing the same thing\n",
    "print(\"Results match:\", np.allclose(result_nonvectorized, result_vectorized))\n"
   ]
  },
  {
   "cell_type": "code",
   "execution_count": 2,
   "id": "44927663-a1ff-4dd2-a5b1-45f32c0b007e",
   "metadata": {},
   "outputs": [
    {
     "name": "stdout",
     "output_type": "stream",
     "text": [
      "Time taken in non-vectorized approach: 363048.98953437805 ms\n",
      "Time taken in vectorized approach: 31.703948974609375 ms\n",
      "Results match: True\n"
     ]
    }
   ],
   "source": [
    "import numpy as np \n",
    "import time\n",
    "# Generate two random 500x500 matrices\n",
    "A = np.random.rand(500, 500)\n",
    "B = np.random.rand(500, 500)\n",
    "\n",
    "# Non-vectorized matrix multiplication\n",
    "C_nonvectorized = np.zeros((500, 500))  # Initialize result matrix\n",
    "start_nv = time.time()\n",
    "\n",
    "# <START: Non-vectorized approach>\n",
    "for i in range(A.shape[0]):\n",
    "    for j in range(B.shape[1]):\n",
    "        for k in range(A.shape[1]):\n",
    "            C_nonvectorized[i, j] += A[i, k] * B[k, j]\n",
    "# <END: Non-vectorized approach>\n",
    "\n",
    "end_nv = time.time()\n",
    "print(\"Time taken in non-vectorized approach:\", 1000 * (end_nv - start_nv), \"ms\")\n",
    "\n",
    "# Vectorized matrix multiplication\n",
    "start_v = time.time()\n",
    "\n",
    "# <START: Vectorized approach>\n",
    "C_vectorized = np.dot(A, B)  # or A @ B\n",
    "# <END: Vectorized approach>\n",
    "\n",
    "end_v = time.time()\n",
    "print(\"Time taken in vectorized approach:\", 1000 * (end_v - start_v), \"ms\")\n",
    "\n",
    "# Uncomment and execute the below line to verify both approaches give the same result\n",
    "print(\"Results match:\", np.allclose(C_nonvectorized, C_vectorized))\n"
   ]
  },
  {
   "cell_type": "code",
   "execution_count": null,
   "id": "6bcdc789-57d5-45e0-a04d-edb4df358d48",
   "metadata": {},
   "outputs": [],
   "source": []
  }
 ],
 "metadata": {
  "kernelspec": {
   "display_name": "Python 3 (ipykernel)",
   "language": "python",
   "name": "python3"
  },
  "language_info": {
   "codemirror_mode": {
    "name": "ipython",
    "version": 3
   },
   "file_extension": ".py",
   "mimetype": "text/x-python",
   "name": "python",
   "nbconvert_exporter": "python",
   "pygments_lexer": "ipython3",
   "version": "3.12.4"
  }
 },
 "nbformat": 4,
 "nbformat_minor": 5
}
