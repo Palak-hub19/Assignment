{
 "cells": [
  {
   "cell_type": "code",
   "execution_count": 1,
   "id": "8f397961-7b9e-4a50-8015-8cae60c9c53c",
   "metadata": {},
   "outputs": [
    {
     "name": "stdout",
     "output_type": "stream",
     "text": [
      "2D Points:\n",
      " [[4.43152401 2.63056987]\n",
      " [4.38673172 2.91239222]\n",
      " [3.54068377 1.70466715]\n",
      " [8.94031823 6.30843581]\n",
      " [7.65125225 6.76991523]]\n",
      "Pairwise Euclidean Distance Matrix:\n",
      " [[0.         0.28535974 1.28487049 5.8185843  5.24412337]\n",
      " [0.28535974 0.         1.47458366 5.68051602 5.05347188]\n",
      " [1.28487049 1.47458366 0.         7.09582541 6.52330525]\n",
      " [5.8185843  5.68051602 7.09582541 0.         1.36918018]\n",
      " [5.24412337 5.05347188 6.52330525 1.36918018 0.        ]]\n"
     ]
    }
   ],
   "source": [
    "import numpy as np\n",
    "\n",
    "# Generate a random 5x2 array of points (values between 0 and 10)\n",
    "points = np.random.rand(5, 2) * 10\n",
    "print(\"2D Points:\\n\", points)\n",
    "\n",
    "# Task: Compute pairwise Euclidean distances using broadcasting\n",
    "# <START: Pairwise distance computation>\n",
    "distance_matrix = np.linalg.norm(points[:, np.newaxis, :] - points[np.newaxis, :, :], axis=2)\n",
    "# <END: Pairwise distance computation>\n",
    "\n",
    "# Print the distance matrix\n",
    "print(\"Pairwise Euclidean Distance Matrix:\\n\", distance_matrix)\n"
   ]
  },
  {
   "cell_type": "code",
   "execution_count": null,
   "id": "8ed0ec6c-32ad-4bbe-9e69-07b352ac6133",
   "metadata": {},
   "outputs": [],
   "source": []
  }
 ],
 "metadata": {
  "kernelspec": {
   "display_name": "Python 3 (ipykernel)",
   "language": "python",
   "name": "python3"
  },
  "language_info": {
   "codemirror_mode": {
    "name": "ipython",
    "version": 3
   },
   "file_extension": ".py",
   "mimetype": "text/x-python",
   "name": "python",
   "nbconvert_exporter": "python",
   "pygments_lexer": "ipython3",
   "version": "3.12.4"
  }
 },
 "nbformat": 4,
 "nbformat_minor": 5
}
